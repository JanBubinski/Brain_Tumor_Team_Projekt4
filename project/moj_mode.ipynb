{
 "cells": [
  {
   "cell_type": "markdown",
   "id": "ce1e75dd",
   "metadata": {},
   "source": [
    "# Nazwa modelu\n"
   ]
  },
  {
   "cell_type": "markdown",
   "id": "4eb86ea8",
   "metadata": {},
   "source": [
    "## Opis\n"
   ]
  },
  {
   "cell_type": "markdown",
   "id": "0c169355",
   "metadata": {},
   "source": []
  },
  {
   "cell_type": "code",
   "execution_count": 7,
   "id": "32c7b361",
   "metadata": {},
   "outputs": [],
   "source": [
    "import os\n",
    "import shutil\n",
    "from pathlib import Path\n",
    "import kaggle\n",
    "import numpy as np\n",
    "import pandas as pd\n",
    "import matplotlib.pyplot as plt\n",
    "import seaborn as sns\n",
    "import tensorflow as tf\n",
    "import torch\n",
    "from sklearn.model_selection import train_test_split\n",
    "from sklearn.metrics import classification_report, confusion_matrix\n",
    "from PIL import Image\n",
    "import random\n",
    "from torchvision.models import resnet18\n",
    "from torchvision import transforms\n",
    "from torchvision import datasets, transforms\n",
    "from torch.utils.data import DataLoader\n",
    "import torch.optim as optim\n",
    "import torch.nn as nn\n"
   ]
  },
  {
   "cell_type": "code",
   "execution_count": 8,
   "id": "3b188ab3",
   "metadata": {},
   "outputs": [
    {
     "name": "stdout",
     "output_type": "stream",
     "text": [
      "Devic: cpu\n",
      "Warning: Your Kaggle API key is readable by other users on this system! To fix this, you can run 'chmod 600 /Users/fidok/.kaggle/kaggle.json'\n",
      "Dataset URL: https://www.kaggle.com/datasets/masoudnickparvar/brain-tumor-mri-dataset\n",
      "Pomyślnie pobrano dane\n"
     ]
    }
   ],
   "source": [
    "def load(tr_path):\n",
    "    classes, class_paths = zip(*[(label, os.path.join(tr_path, label, image))\n",
    "                                 for label in os.listdir(tr_path) if os.path.isdir(os.path.join(tr_path, label))\n",
    "                                 for image in os.listdir(os.path.join(tr_path, label))])\n",
    "\n",
    "    return pd.DataFrame({'Class Path': class_paths, 'Class': classes})\n",
    "\n",
    "SEED = 900729\n",
    "dir_path = './data'\n",
    "train_path = './data/Training'\n",
    "test_path = './data/Testing'\n",
    "validation_path = './data/Validation'\n",
    "\n",
    "device = torch.device(\"cuda\" if torch.cuda.is_available() else \"cpu\")\n",
    "print(f\"Devic: {device}\")\n",
    "\n",
    "if os.path.exists(dir_path):\n",
    "    print(\"Dane juz istnieją\")\n",
    "else:\n",
    "    kaggle.api.authenticate()\n",
    "    kaggle.api.dataset_download_files('masoudnickparvar/brain-tumor-mri-dataset', path='./data', unzip=True)\n",
    "    tr_orginal_df = load(train_path)\n",
    "    ts_df = load(test_path)\n",
    "    val_df, tr_df = train_test_split(tr_orginal_df, train_size=0.25, random_state=SEED, stratify=tr_orginal_df['Class'])\n",
    "    validation_path = './data/Validation'\n",
    "    Path(validation_path).mkdir(exist_ok=True)\n",
    "\n",
    "    classes = ['glioma', 'meningioma', 'notumor', 'pituitary']\n",
    "    for class_name in classes:\n",
    "        class_validation_path = Path(validation_path) / class_name\n",
    "        class_validation_path.mkdir(exist_ok=True)\n",
    "\n",
    "    errors = []\n",
    "\n",
    "    for idx, row in val_df.iterrows():\n",
    "        try:\n",
    "            source_path = Path(row['Class Path'])\n",
    "\n",
    "            filename = source_path.name\n",
    "            class_name = row['Class']\n",
    "            destination_path = Path(validation_path) / class_name / filename\n",
    "\n",
    "            shutil.move(str(source_path), str(destination_path))\n",
    "\n",
    "        except Exception as e:\n",
    "            errors.append({\n",
    "                'file': row['Class Path'],\n",
    "                'class': row['Class'],\n",
    "                'error': str(e)\n",
    "            })\n",
    "\n",
    "\n",
    "    if errors:\n",
    "        print(f\"Errors: {len(errors)}\")\n",
    "        for error in errors:\n",
    "            print(f\"  - {error['class']}: {Path(error['file']).name} - {error['error']}\")\n",
    "\n",
    "    val_df_updated = val_df.copy()\n",
    "    val_df_updated['Class Path'] = val_df_updated.apply(\n",
    "        lambda row: str(Path(validation_path) / row['Class'] / Path(row['Class Path']).name),\n",
    "        axis=1\n",
    "    )\n",
    "\n",
    "    tr_df_updated = load(train_path)\n",
    "\n",
    "    val_df = val_df_updated\n",
    "    tr_df = tr_df_updated\n",
    "    print(\"Pomyślnie pobrano dane\")\n",
    "\n"
   ]
  },
  {
   "cell_type": "markdown",
   "id": "6ac82900",
   "metadata": {},
   "source": [
    "# 🧠 ResNet – Residual Network (Resztkowa Sieć Neuronowa)"
   ]
  },
  {
   "cell_type": "markdown",
   "id": "67363413",
   "metadata": {},
   "source": [
    "### Opis"
   ]
  },
  {
   "cell_type": "markdown",
   "id": "1a192f85",
   "metadata": {},
   "source": [
    "#### 🔹 Dlaczego powstał?\n",
    "- Wraz ze wzrostem liczby warstw w sieciach neuronowych pojawił się problem:\n",
    "  - **zanikający gradient** – trudność w trenowaniu bardzo głębokich sieci,\n",
    "  - **degradacja dokładności** – dodawanie kolejnych warstw pogarszało wyniki zamiast je poprawiać.\n",
    "- Klasyczne sieci (np. VGG) nie były w stanie efektywnie uczyć się przy setkach warstw.\n",
    "\n",
    "#### 🔹 I wtedy powstał ResNet\n",
    "- ResNet wprowadza **połączenia resztkowe (skip connections)**.\n",
    "- Zamiast uczyć się bezpośredniej funkcji `H(x)`, sieć uczy się **reszty** względem wejścia:\n",
    "\n",
    "\\[\n",
    "H(x) = F(x) + x\n",
    "\\]\n",
    "\n",
    "gdzie:\n",
    "- `x` – wejście do bloku,\n",
    "- `F(x)` – transformacja (np. sploty, normalizacja, ReLU),\n",
    "- `H(x)` – wyjście po dodaniu shortcutu.\n",
    "\n",
    "Dzięki temu sieć łatwo uczy się nawet **funkcji tożsamościowej**, co stabilizuje trening.\n",
    "\n",
    "#### 🔹 Jak działa blok resztkowy?\n",
    "Schemat działania jednego **Residual Block**:\n",
    "\n",
    "Wejście (x)<br>\n",
    "↓<br>\n",
    "[Conv -> BN -> ReLU -> Conv -> BN] = F(x)<br>\n",
    "↓<br>\n",
    "Dodanie shortcut: y = F(x) + x<br>\n",
    "↓<br>\n",
    "ReLU<br>\n",
    "↓<br>\n",
    "Wyjście (y)\n",
    "\n",
    "- **Shortcut (skip connection)** może być:\n",
    "  - *Identity* – gdy rozmiary się zgadzają,\n",
    "  - *Conv 1x1* – gdy trzeba dopasować liczbę kanałów lub rozdzielczość.\n"
   ]
  },
  {
   "cell_type": "markdown",
   "id": "e22aeb32",
   "metadata": {},
   "source": [
    "### Architektura"
   ]
  },
  {
   "cell_type": "markdown",
   "id": "5ed3e65e",
   "metadata": {},
   "source": [
    "<p align=\"center\">\n",
    "  <img src=\"./screenshots/resnet_architecture.png\" alt=\"Resnet architecture\">\n",
    "</p>"
   ]
  },
  {
   "cell_type": "markdown",
   "id": "c8df64c0",
   "metadata": {},
   "source": [
    "## Base line"
   ]
  },
  {
   "cell_type": "code",
   "execution_count": 9,
   "id": "4ab5ad82",
   "metadata": {},
   "outputs": [],
   "source": [
    "data_transform = transforms.Compose([\n",
    "    transforms.Resize((224, 224)),\n",
    "    transforms.ToTensor()\n",
    "])\n",
    "\n",
    "train_dataset = datasets.ImageFolder(root=train_path, transform=data_transform)\n",
    "test_dataset  = datasets.ImageFolder(root=test_path, transform=data_transform)\n",
    "val_dataset   = datasets.ImageFolder(root=validation_path, transform=data_transform)\n",
    "\n",
    "train_loader = DataLoader(train_dataset, batch_size=32, shuffle=True)\n",
    "test_loader  = DataLoader(test_dataset, batch_size=32, shuffle=False)\n",
    "val_loader   = DataLoader(val_dataset, batch_size=32, shuffle=False)\n"
   ]
  },
  {
   "cell_type": "code",
   "execution_count": 10,
   "id": "7f921ac2",
   "metadata": {},
   "outputs": [
    {
     "name": "stdout",
     "output_type": "stream",
     "text": [
      "Dataset ImageFolder\n",
      "    Number of datapoints: 4284\n",
      "    Root location: ./data/Training\n",
      "    StandardTransform\n",
      "Transform: Compose(\n",
      "               Resize(size=(224, 224), interpolation=bilinear, max_size=None, antialias=True)\n",
      "               ToTensor()\n",
      "           )\n",
      "Dataset ImageFolder\n",
      "    Number of datapoints: 1428\n",
      "    Root location: ./data/Validation\n",
      "    StandardTransform\n",
      "Transform: Compose(\n",
      "               Resize(size=(224, 224), interpolation=bilinear, max_size=None, antialias=True)\n",
      "               ToTensor()\n",
      "           )\n",
      "Dataset ImageFolder\n",
      "    Number of datapoints: 1311\n",
      "    Root location: ./data/Testing\n",
      "    StandardTransform\n",
      "Transform: Compose(\n",
      "               Resize(size=(224, 224), interpolation=bilinear, max_size=None, antialias=True)\n",
      "               ToTensor()\n",
      "           )\n"
     ]
    }
   ],
   "source": [
    "print(train_dataset)\n",
    "print(val_dataset)\n",
    "print(test_dataset)"
   ]
  },
  {
   "cell_type": "code",
   "execution_count": 11,
   "id": "c66c67cd",
   "metadata": {},
   "outputs": [
    {
     "name": "stderr",
     "output_type": "stream",
     "text": [
      "/Users/fidok/Developer/WakacyjneWyzwanieSOLVRO-ML/FinalProject/Brain_Tumor_Team_Projekt4/.venv/lib/python3.12/site-packages/torchvision/models/_utils.py:208: UserWarning: The parameter 'pretrained' is deprecated since 0.13 and may be removed in the future, please use 'weights' instead.\n",
      "  warnings.warn(\n",
      "/Users/fidok/Developer/WakacyjneWyzwanieSOLVRO-ML/FinalProject/Brain_Tumor_Team_Projekt4/.venv/lib/python3.12/site-packages/torchvision/models/_utils.py:223: UserWarning: Arguments other than a weight enum or `None` for 'weights' are deprecated since 0.13 and may be removed in the future. The current behavior is equivalent to passing `weights=ResNet18_Weights.IMAGENET1K_V1`. You can also use `weights=ResNet18_Weights.DEFAULT` to get the most up-to-date weights.\n",
      "  warnings.warn(msg)\n"
     ]
    }
   ],
   "source": [
    "model = resnet18(pretrained=True) \n",
    "optimizer = optim.SGD(model.parameters(), lr=0.001, momentum=0.9)\n",
    "criterion = nn.CrossEntropyLoss()\n",
    "model.fc = nn.Linear(model.fc.in_features, len(train_dataset.classes)) \n",
    "model = model.to(device)"
   ]
  },
  {
   "cell_type": "code",
   "execution_count": 12,
   "id": "c59cab8b",
   "metadata": {},
   "outputs": [
    {
     "name": "stdout",
     "output_type": "stream",
     "text": [
      "Epoch 1/10, Loss: 0.6394\n",
      "Epoch 2/10, Loss: 0.1959\n",
      "Epoch 3/10, Loss: 0.1186\n",
      "Epoch 4/10, Loss: 0.0813\n",
      "Epoch 5/10, Loss: 0.0539\n",
      "Epoch 6/10, Loss: 0.0410\n",
      "Epoch 7/10, Loss: 0.0295\n",
      "Epoch 8/10, Loss: 0.0244\n",
      "Epoch 9/10, Loss: 0.0220\n",
      "Epoch 10/10, Loss: 0.0166\n"
     ]
    }
   ],
   "source": [
    "EPOCHS = 10\n",
    "\n",
    "for epoch in range(EPOCHS):\n",
    "    model.train()\n",
    "    running_loss = 0.0\n",
    "    for inputs, labels in train_loader:\n",
    "        inputs, labels = inputs.to(device), labels.to(device)\n",
    "        optimizer.zero_grad()\n",
    "        outputs = model(inputs)\n",
    "        loss = criterion(outputs, labels)\n",
    "        loss.backward()\n",
    "        optimizer.step()\n",
    "        running_loss += loss.item() * inputs.size(0)\n",
    "    \n",
    "    epoch_loss = running_loss / len(train_loader.dataset)\n",
    "    print(f\"Epoch {epoch+1}/{EPOCHS}, Loss: {epoch_loss:.4f}\")\n"
   ]
  },
  {
   "cell_type": "code",
   "execution_count": 13,
   "id": "1166412c",
   "metadata": {},
   "outputs": [],
   "source": [
    "best_loss = float('inf')\n",
    "model.eval()\n",
    "val_loss = 0.0\n",
    "with torch.no_grad():\n",
    "        for imgs, labels in val_loader:\n",
    "            imgs, labels = imgs.to(device), labels.to(device)\n",
    "            outputs = model(imgs)\n",
    "            loss = criterion(outputs, labels)\n",
    "            val_loss += loss.item()\n",
    "\n",
    "val_loss /= len(val_loader)\n",
    "if val_loss < best_loss:\n",
    "    best_loss = val_loss\n",
    "    counter = 0\n",
    "    torch.save(model.state_dict(), 'best_model.pth')"
   ]
  },
  {
   "cell_type": "code",
   "execution_count": 14,
   "id": "f4c56820",
   "metadata": {},
   "outputs": [
    {
     "name": "stdout",
     "output_type": "stream",
     "text": [
      "Test Loss: 0.0870\n",
      "Test Accuracy: 96.72%\n",
      "\n",
      "Classification Report:\n",
      "              precision    recall  f1-score   support\n",
      "\n",
      "      glioma       0.99      0.93      0.96       300\n",
      "  meningioma       0.91      0.96      0.93       306\n",
      "     notumor       0.99      0.99      0.99       405\n",
      "   pituitary       0.98      0.98      0.98       300\n",
      "\n",
      "    accuracy                           0.97      1311\n",
      "   macro avg       0.97      0.97      0.97      1311\n",
      "weighted avg       0.97      0.97      0.97      1311\n",
      "\n",
      "\n",
      "Confusion Matrix:\n"
     ]
    },
    {
     "data": {
      "image/png": "[encoded data removed]",
      "text/plain": [
       "<Figure size 800x600 with 2 Axes>"
      ]
     },
     "metadata": {},
     "output_type": "display_data"
    }
   ],
   "source": [
    "model.load_state_dict(torch.load('best_model.pth'))\n",
    "\n",
    "model.eval()\n",
    "test_loss = 0.0\n",
    "correct = 0\n",
    "total = 0\n",
    "all_labels = []\n",
    "all_predictions = []\n",
    "\n",
    "with torch.no_grad():\n",
    "    for imgs, labels in test_loader:\n",
    "        imgs, labels = imgs.to(device), labels.to(device)\n",
    "        outputs = model(imgs)\n",
    "        loss = criterion(outputs, labels)\n",
    "        test_loss += loss.item()\n",
    "\n",
    "        _, predicted = torch.max(outputs.data, 1)\n",
    "        total += labels.size(0)\n",
    "        correct += (predicted == labels).sum().item()\n",
    "\n",
    "        all_labels.extend(labels.cpu().numpy())\n",
    "        all_predictions.extend(predicted.cpu().numpy())\n",
    "\n",
    "test_loss /= len(test_loader)\n",
    "accuracy = 100 * correct / total\n",
    "\n",
    "print(f\"Test Loss: {test_loss:.4f}\")\n",
    "print(f\"Test Accuracy: {accuracy:.2f}%\")\n",
    "\n",
    "\n",
    "print(\"\\nClassification Report:\")\n",
    "print(classification_report(all_labels, all_predictions, target_names=test_dataset.classes))\n",
    "\n",
    "print(\"\\nConfusion Matrix:\")\n",
    "cm = confusion_matrix(all_labels, all_predictions)\n",
    "plt.figure(figsize=(8, 6))\n",
    "sns.heatmap(cm, annot=True, fmt='d', cmap='Reds', xticklabels=test_dataset.classes, yticklabels=test_dataset.classes)\n",
    "plt.xlabel('Predicted')\n",
    "plt.ylabel('True')\n",
    "plt.title('Confusion Matrix')\n",
    "plt.show()"
   ]
  },
  {
   "cell_type": "markdown",
   "id": "c9f4e1ab",
   "metadata": {},
   "source": [
    "Model osiąga dobre predykcje na zbiorze walidacyjnym lekko myli się z glejakiem przypisując mu oponiaka można to prawdopodobnie zrównoważyć podwyższając wage w zbiorze z glejakiem "
   ]
  },
  {
   "cell_type": "markdown",
   "id": "e45c3573",
   "metadata": {},
   "source": [
    "do zrobienia grad cam "
   ]
  }
 ],
 "metadata": {
  "kernelspec": {
   "display_name": "brain-tumor-team-projekt4 (3.12.11)",
   "language": "python",
   "name": "python3"
  },
  "language_info": {
   "codemirror_mode": {
    "name": "ipython",
    "version": 3
   },
   "file_extension": ".py",
   "mimetype": "text/x-python",
   "name": "python",
   "nbconvert_exporter": "python",
   "pygments_lexer": "ipython3",
   "version": "3.12.11"
  }
 },
 "nbformat": 4,
 "nbformat_minor": 5
}
